{
 "cells": [
  {
   "cell_type": "code",
   "execution_count": 2,
   "metadata": {},
   "outputs": [],
   "source": [
    "import numpy as np\n",
    "import matplotlib.pyplot as plt\n",
    "%matplotlib inline"
   ]
  },
  {
   "cell_type": "code",
   "execution_count": 3,
   "metadata": {},
   "outputs": [],
   "source": [
    "\n",
    "def graph(x, y, top_offset=2, color='r', fit_line=True, connect=False):\n",
    "    plt.ylim(ymin=0, ymax=(max(y) + top_offset))\n",
    "    if connect:\n",
    "        plt.plot(x, y, color + '-o')\n",
    "    else:\n",
    "        plt.plot(x, y, color + 'o')\n",
    "\n",
    "    A = np.vstack([x, np.ones(len(x))]).T\n",
    "    line, resid = np.linalg.lstsq(A, y)[:2] # fit line\n",
    "    k, n = line[0], line[1]\n",
    "    yfit = [k * xi + n for xi in x]\n",
    "    if fit_line: plt.plot(x, yfit)\n",
    "    return (line[0], line[1], resid / (len(x) * np.var(x)))\n"
   ]
  },
  {
   "cell_type": "code",
   "execution_count": 19,
   "metadata": {},
   "outputs": [
    {
     "name": "stdout",
     "output_type": "stream",
     "text": [
      "25.0\n"
     ]
    },
    {
     "data": {
      "image/png": "[encoded data removed]",
      "text/plain": [
       "<matplotlib.figure.Figure at 0x7f326e0c34e0>"
      ]
     },
     "metadata": {},
     "output_type": "display_data"
    }
   ],
   "source": [
    "# k vzmeti\n",
    "meritve_vzmet = {\n",
    "    0.5: 0.02,\n",
    "    1: 0.04,\n",
    "    1.5: 0.06\n",
    "}\n",
    "\n",
    "k_vzmeti, n, err = graph(\n",
    "    [meritve_vzmet[k] for k in meritve_vzmet.keys()],\n",
    "    [k for k in meritve_vzmet.keys()],\n",
    "    top_offset = 0.01\n",
    ")\n",
    "\n",
    "print(k_vzmeti)"
   ]
  },
  {
   "cell_type": "code",
   "execution_count": 16,
   "metadata": {},
   "outputs": [
    {
     "name": "stdout",
     "output_type": "stream",
     "text": [
      "skupaj v isto smer (omega0): (1.41409375, 4.443259371720996)\n",
      "\n",
      "skupaj v nasprotno smer t40 levi (omega1): (1.288125, 4.877776075442668)\n",
      "\n",
      "en primeru en premaknjen (omega'): (1.6821666666666668, 3.7351740654986143)\n",
      "\n",
      "utripanje (omega u): (19.875, 0.3161351097951993)\n",
      "\n"
     ]
    }
   ],
   "source": [
    "def calculate(t, n):\n",
    "    t0 = t/n\n",
    "    omega = 2*np.pi/t0\n",
    "    return (t0, omega)\n",
    "\n",
    "def avg(arr):\n",
    "    return sum(arr)/len(arr)\n",
    "\n",
    "print('skupaj v isto smer (omega0):', calculate(avg([56.8, 56.6, 56.42, 56.5, 56.67, 56.43, 56.50, 56.59]), 40))\n",
    "print()\n",
    "\n",
    "print('skupaj v nasprotno smer t40 levi (omega1):', calculate(avg([51.59, 51.43, 51.4, 51.73, 51.55, 51.45]), 40))\n",
    "print()\n",
    "\n",
    "print('en primeru en premaknjen (omega\\'):', calculate(avg([24.69, 24.77, 25.73, 25.78, 25.87, 25.70, 24.68, 24.64]), 15))\n",
    "print()\n",
    "\n",
    "print('utripanje (omega u):', calculate(avg([79, 79, 80, 80 ,79, 80]), 4))\n",
    "print()"
   ]
  }
 ],
 "metadata": {
  "kernelspec": {
   "display_name": "Python 3",
   "language": "python",
   "name": "python3"
  },
  "language_info": {
   "codemirror_mode": {
    "name": "ipython",
    "version": 3
   },
   "file_extension": ".py",
   "mimetype": "text/x-python",
   "name": "python",
   "nbconvert_exporter": "python",
   "pygments_lexer": "ipython3",
   "version": "3.6.3"
  }
 },
 "nbformat": 4,
 "nbformat_minor": 2
}
