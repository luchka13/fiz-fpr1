{
 "cells": [
  {
   "cell_type": "code",
   "execution_count": 2,
   "metadata": {},
   "outputs": [
    {
     "name": "stdout",
     "output_type": "stream",
     "text": [
      "Stevio meritev: 50\n",
      "Povprecen cas: 0.13166080000000002\n",
      "rel. napaka: 3.0709216410656283e-06\n"
     ]
    }
   ],
   "source": [
    "import numpy as np\n",
    "import matplotlib.pyplot as plt\n",
    "%matplotlib inline\n",
    "import matplotlib.mlab as mlab\n",
    "import math\n",
    "\n",
    "def gaussian(x, mu, sig):\n",
    "    return np.exp(-np.power(x - mu, 2.) / (2 * np.power(sig, 2.)))\n",
    "\n",
    "meritve_enakomerno_pospeseno = {\n",
    "    15.4: (0.159995 + 0.1632723) / 2,\n",
    "    17.6: (0.1736 + 0.1735) / 2,\n",
    "    22.1: (0.1950 + 0.1957) / 2,\n",
    "    32.6: (0.2437 + 0.2449) / 2,\n",
    "    39.0: (0.2684 + 0.2687) / 2\n",
    "}\n",
    "\n",
    "meritve = [\n",
    "    0.13182,\n",
    "    0.13180,\n",
    "    0.13191,\n",
    "    0.13201,\n",
    "    0.13165,\n",
    "    0.13158,\n",
    "    0.13175,\n",
    "    0.13228,\n",
    "    0.13158,\n",
    "    0.13179,\n",
    "    0.13198,\n",
    "    0.13219,\n",
    "    0.13169,\n",
    "    0.13188,\n",
    "    0.13159,\n",
    "    0.13153,\n",
    "    0.13152,\n",
    "    0.13242,\n",
    "    0.13200,\n",
    "    0.13152,\n",
    "    0.13145,\n",
    "    0.13133,\n",
    "    0.13160,\n",
    "    0.13142,\n",
    "    0.13159,\n",
    "    0.13180,\n",
    "    0.13140,\n",
    "    0.13203,\n",
    "    0.13182,\n",
    "    0.13161,\n",
    "    0.13180,\n",
    "    0.13148,\n",
    "    0.13096,\n",
    "    0.13127,\n",
    "    0.13156,\n",
    "    0.13222,\n",
    "    0.13118,\n",
    "    0.13195,\n",
    "    0.13142,\n",
    "    0.13145,\n",
    "    0.13065,\n",
    "    0.13167,\n",
    "    0.13192,\n",
    "    0.13169,\n",
    "    0.13190,\n",
    "    0.13155,\n",
    "    0.13200,\n",
    "    0.13129,\n",
    "    0.13115,\n",
    "    0.13139\n",
    "]\n",
    "\n",
    "\n",
    "\n",
    "meritve.sort()\n",
    "print(\"Stevio meritev:\", len(meritve))\n",
    "print(\"Povprecen cas:\", sum(meritve)/len(meritve))\n",
    "print(\"rel. napaka:\", max([sum(meritve)/len(meritve)-min(meritve), max(meritve)-sum(meritve)/len(meritve)]) / sum(meritve)/len(meritve))"
   ]
  },
  {
   "cell_type": "code",
   "execution_count": 4,
   "metadata": {},
   "outputs": [
    {
     "data": {
      "text/plain": [
       "[<matplotlib.lines.Line2D at 0x7fe5e8fa1ba8>]"
      ]
     },
     "execution_count": 4,
     "metadata": {},
     "output_type": "execute_result"
    },
    {
     "data": {
      "image/png": "[encoded data removed]",
      "text/plain": [
       "<matplotlib.figure.Figure at 0x7fe5e8fa1b38>"
      ]
     },
     "metadata": {},
     "output_type": "display_data"
    }
   ],
   "source": [
    "x = [meritve_enakomerno_pospeseno[k] for k in meritve_enakomerno_pospeseno.keys()]\n",
    "y = [k**0.5 for k in meritve_enakomerno_pospeseno.keys()]\n",
    "plt.plot(x, y, 'ro')\n",
    "\n",
    "A = np.vstack([x, np.ones(len(x))]).T\n",
    "k, n = np.linalg.lstsq(A, y)[0]\n",
    "yfit = [k * xi + n for xi in x]\n",
    "plt.plot(x, yfit)"
   ]
  },
  {
   "cell_type": "code",
   "execution_count": 11,
   "metadata": {},
   "outputs": [
    {
     "name": "stdout",
     "output_type": "stream",
     "text": [
      "[0.02, 0.02, 0.04, 0.06, 0.2, 0.24, 0.16, 0.18, 0.04, 0.04]\n"
     ]
    }
   ],
   "source": [
    "start, stop = min(meritve), max(meritve)\n",
    "step = (stop-start)/10\n",
    "diag = []\n",
    "for i in range(10):\n",
    "    diag.append(sum([1 for j in meritve if j >= (start + i*step) and j <= (start + (i+1)*step)])/len(meritve))\n",
    "print(diag)"
   ]
  },
  {
   "cell_type": "code",
   "execution_count": 30,
   "metadata": {},
   "outputs": [
    {
     "name": "stdout",
     "output_type": "stream",
     "text": [
      "{'0.1306-0.1308': 0.02, '0.1308-0.131': 0.02, '0.131-0.1312': 0.04, '0.1312-0.1314': 0.06, '0.1314-0.1315': 0.2, '0.1315-0.1317': 0.24, '0.1317-0.1319': 0.16, '0.1319-0.1321': 0.18, '0.1321-0.1322': 0.04, '0.1322-0.1324': 0.04}\n"
     ]
    },
    {
     "data": {
      "text/plain": [
       "([<matplotlib.axis.XTick at 0x7faf0cc8eac8>,\n",
       "  <matplotlib.axis.XTick at 0x7faecf9cf7f0>,\n",
       "  <matplotlib.axis.XTick at 0x7faecfaed710>,\n",
       "  <matplotlib.axis.XTick at 0x7faecf870f28>,\n",
       "  <matplotlib.axis.XTick at 0x7faecf878940>,\n",
       "  <matplotlib.axis.XTick at 0x7faecf87d358>,\n",
       "  <matplotlib.axis.XTick at 0x7faecf87dd30>,\n",
       "  <matplotlib.axis.XTick at 0x7faecf882748>,\n",
       "  <matplotlib.axis.XTick at 0x7faecf88b160>,\n",
       "  <matplotlib.axis.XTick at 0x7faecf88bb38>],\n",
       " <a list of 10 Text xticklabel objects>)"
      ]
     },
     "execution_count": 30,
     "metadata": {},
     "output_type": "execute_result"
    },
    {
     "data": {
      "image/png": "[encoded data removed]",
      "text/plain": [
       "<matplotlib.figure.Figure at 0x7faecf961160>"
      ]
     },
     "metadata": {},
     "output_type": "display_data"
    }
   ],
   "source": [
    "dictionary = plt.figure( figsize=(16, 10))\n",
    "\n",
    "D = {}\n",
    "for i in range(len(diag)):\n",
    "    D[str(round((start + i*step), 4)) + '-' + str(round((start + (i+1)*step), 4))] = diag[i]\n",
    "print(D)\n",
    "    \n",
    "plt.bar(range(len(D)), list(D.values()), align='center')\n",
    "plt.xticks(range(len(D)), list(D.keys()))\n"
   ]
  },
  {
   "cell_type": "code",
   "execution_count": 10,
   "metadata": {},
   "outputs": [
    {
     "name": "stdout",
     "output_type": "stream",
     "text": [
      "0.12124957741782029\n",
      "0.017321368202545755\n"
     ]
    }
   ],
   "source": [
    "sigma = sum([i**2 for i in meritve])/len(meritve) - sum(meritve)/len(meritve)**2\n",
    "sigma = sigma**0.5\n",
    "print(sigma)\n",
    "\n",
    "err = sigma/(len(meritve)-1)**0.5\n",
    "print(err)"
   ]
  }
 ],
 "metadata": {
  "kernelspec": {
   "display_name": "Python 3",
   "language": "python",
   "name": "python3"
  },
  "language_info": {
   "codemirror_mode": {
    "name": "ipython",
    "version": 3
   },
   "file_extension": ".py",
   "mimetype": "text/x-python",
   "name": "python",
   "nbconvert_exporter": "python",
   "pygments_lexer": "ipython3",
   "version": "3.6.3"
  }
 },
 "nbformat": 4,
 "nbformat_minor": 2
}
