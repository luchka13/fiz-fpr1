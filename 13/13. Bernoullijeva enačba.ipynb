{
 "cells": [
  {
   "cell_type": "code",
   "execution_count": 43,
   "metadata": {},
   "outputs": [
    {
     "name": "stdout",
     "output_type": "stream",
     "text": [
      "delta h\t\timerjeno\t\tizracunano\n",
      "0.034\t\t5.6764e-5 (1+-0.0284)\t8.3898e-5 (1+-0.0074)\n",
      "0.029\t\t4.9892e-5 (1+-0.0249)\t7.7484e-5 (1+-0.0086)\n",
      "0.020\t\t4.4683e-5 (1+-0.0223)\t6.4347e-5 (1+-0.0125)\n",
      "0.009\t\t2.6114e-5 (1+-0.0131)\t4.3165e-5 (1+-0.0278)\n",
      "0.003\t\t1.3125e-5 (1+-0.0066)\t2.4921e-5 (1+-0.0833)\n"
     ]
    }
   ],
   "source": [
    "import numpy as np\n",
    "import matplotlib.pyplot as plt\n",
    "%matplotlib inline\n",
    "import matplotlib.mlab as mlab\n",
    "import math\n",
    "\n",
    "K = 4.55e-4\n",
    "\n",
    "meritve = [\n",
    "    {\n",
    "        'h': 0.034,\n",
    "        't': sum([17.36, 18.29, 17.2])/3\n",
    "    },\n",
    "    {\n",
    "        'h': 0.029,\n",
    "        't': sum([20.13, 19.69, 20.31])/3\n",
    "    },\n",
    "    {\n",
    "        'h': 0.020,\n",
    "        't': sum([22.71, 22.18, 22.25])/3\n",
    "    },\n",
    "    {\n",
    "        'h': 0.009,\n",
    "        't': sum([38.64, 38.23, 38.01])/3\n",
    "    },\n",
    "    {\n",
    "        'h': 0.003,\n",
    "        't': sum([75.96, 76.36, 76.25])/3\n",
    "    }\n",
    "]\n",
    "\n",
    "relative_t_error = [0.5/i['t'] for i in meritve]\n",
    "relative_h_error = [0.0005/i['h']/2 for i in meritve]\n",
    "\n",
    "rezultati = []\n",
    "for i in meritve:\n",
    "    # delta h, merjen, izracunano\n",
    "    rezultati.append([\n",
    "        i['h'],\n",
    "        1e-3/i['t'],\n",
    "        K*i['h']**0.5,\n",
    "    ])\n",
    "\n",
    "print(\"delta h\", \"\\timerjeno\", \"\\tizracunano\", sep='\\t')\n",
    "for i in range(len(rezultati)):\n",
    "    e = rezultati[i]\n",
    "    print(\n",
    "        '{0:.3f}'.format(e[0]), \n",
    "        '\\t{0:.4f}'.format(e[1]*1e5)+'e-5 (1+-' + out.format(relative_t_error[i]) + ')',\n",
    "        '{0:.4f}'.format(e[2]*1e5)+'e-5 (1+-' + out.format(relative_h_error[i]) + ')'\n",
    "        , sep='\\t')"
   ]
  },
  {
   "cell_type": "code",
   "execution_count": 39,
   "metadata": {},
   "outputs": [
    {
     "name": "stdout",
     "output_type": "stream",
     "text": [
      "k premice: 4830334.50066\n",
      "K izracunan iz naklona premice 0.000455\n",
      "n premice: 3.64254171848e-18 (gre res skoraj skozi izhodisce)\n"
     ]
    },
    {
     "data": {
      "image/png": "[encoded data removed]",
      "text/plain": [
       "<matplotlib.figure.Figure at 0x7fd6a2c46710>"
      ]
     },
     "metadata": {},
     "output_type": "display_data"
    }
   ],
   "source": [
    "x = [i[2]**2 for i in rezultati]\n",
    "y = [i['h'] for i in meritve]\n",
    "plt.plot(x, y, 'ro')\n",
    "\n",
    "A = np.vstack([x, np.ones(len(x))]).T\n",
    "k, n = np.linalg.lstsq(A, y)[0]\n",
    "yfit = [k * xi + n for xi in x]\n",
    "plt.plot(x, yfit)\n",
    "\n",
    "K_iz_naklona = (1/k)**0.5\n",
    "print('k premice:', k)\n",
    "print('K izracunan iz naklona premice', K_iz_naklona)\n",
    "print('n premice:', n, '(gre res skoraj skozi izhodisce)')"
   ]
  }
 ],
 "metadata": {
  "kernelspec": {
   "display_name": "Python 3",
   "language": "python",
   "name": "python3"
  },
  "language_info": {
   "codemirror_mode": {
    "name": "ipython",
    "version": 3
   },
   "file_extension": ".py",
   "mimetype": "text/x-python",
   "name": "python",
   "nbconvert_exporter": "python",
   "pygments_lexer": "ipython3",
   "version": "3.6.3"
  }
 },
 "nbformat": 4,
 "nbformat_minor": 2
}
