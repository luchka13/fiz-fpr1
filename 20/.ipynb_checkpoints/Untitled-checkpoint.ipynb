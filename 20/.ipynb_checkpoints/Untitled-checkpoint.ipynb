{
 "cells": [
  {
   "cell_type": "code",
   "execution_count": 34,
   "metadata": {},
   "outputs": [],
   "source": [
    "import numpy as np\n",
    "import matplotlib.pyplot as plt\n",
    "%matplotlib inline\n",
    "\n",
    "m0 = 150\n",
    "Scu = 9.6211275e-8\n",
    "Sje = 3.14159265e-8\n",
    "g = 9.81\n",
    "Lcu = 2007\n",
    "Lje = 1928\n",
    "\n",
    "cu = {\n",
    "    'dodajanje': [(300, 35.9), (450, 36.4), (600, 37.0), (750, 37.4), (900, 37.8), (1050, 38.4), (1200, 39.0), (1350, 39.6), (1500, 42.0)],\n",
    "    'odvzem': [(1350, 42.0), (1200, 41.8), (1050, 41.4), (750, 40.6), (600, 40.2), (450, 39.8), (300, 39.4), (150, 39.0)]\n",
    "}\n",
    "\n",
    "je = {\n",
    "    'dodajanje': [(300, 137.4), (450, 138.0), (600, 138.6), (750, 139.2), (900, 139.8), (1050, 140.3), (1200, 140.9), (1350, 141.4), (1500, 142.0), (1650, 142.5), (1800, 143.1), (1950, 143.7), (2100, 144.3), (2250, 144.8), (2400, 145.3), (2550, 146.0), (2700, 146.4), (2850, 147.0), (3000, 147.6), (3150, 148.2), (3300, 148.7), (3450, 149.5)],\n",
    "    'odvzem': [(3600, 150.1), (3450, 149.7), (3300, 148.8), (3150, 148.5), (3000, 147.9), (2850, 147.2), (2700, 146.7), (2550, 146.0), (2400, 145.6), (2250, 145.1), (2100, 144.5), (1950, 144.0), (1800, 143.3), (1650, 142.8), (1500, 142.3), (1350, 141.7), (1200, 141.2), (1050, 140.6), (900, 140.1), (750, 139.5), (600, 139.0), (450, 138.4), (300, 137.7), (150, 137.1)]\n",
    "}\n",
    "\n",
    "def normalize(l, m0, length, rev=False):\n",
    "    x0 = -1\n",
    "    result = []\n",
    "    for i in range(len(l)):\n",
    "        if x0 < 1:\n",
    "            if rev: x0 = l[-1][1]\n",
    "            else: x0 = l[0][1]\n",
    "        result.append(((l[i][0]-m0) / 1000, (l[i][1]-x0) / length))\n",
    "    return result\n",
    "\n",
    "cu['dodajanje'] = normalize(cu['dodajanje'], m0, Lcu)\n",
    "cu['odvzem'] = normalize(cu['odvzem'], m0, Lcu, rev=True)\n",
    "je['dodajanje'] = normalize(je['dodajanje'], Lje, m0)\n",
    "je['odvzem'] = normalize(je['odvzem'], m0, Lje, rev=True)"
   ]
  },
  {
   "cell_type": "code",
   "execution_count": 44,
   "metadata": {},
   "outputs": [
    {
     "ename": "AttributeError",
     "evalue": "'list' object has no attribute 'var'",
     "output_type": "error",
     "traceback": [
      "\u001b[0;31m---------------------------------------------------------------------------\u001b[0m",
      "\u001b[0;31mAttributeError\u001b[0m                            Traceback (most recent call last)",
      "\u001b[0;32m<ipython-input-44-c874ab7ae227>\u001b[0m in \u001b[0;36m<module>\u001b[0;34m()\u001b[0m\n\u001b[1;32m     11\u001b[0m \u001b[0mline\u001b[0m\u001b[0;34m,\u001b[0m \u001b[0mresid\u001b[0m \u001b[0;34m=\u001b[0m \u001b[0mnp\u001b[0m\u001b[0;34m.\u001b[0m\u001b[0mlinalg\u001b[0m\u001b[0;34m.\u001b[0m\u001b[0mlstsq\u001b[0m\u001b[0;34m(\u001b[0m\u001b[0mA\u001b[0m\u001b[0;34m,\u001b[0m \u001b[0mcuy0\u001b[0m\u001b[0;34m[\u001b[0m\u001b[0;34m:\u001b[0m\u001b[0;34m-\u001b[0m\u001b[0;36m1\u001b[0m\u001b[0;34m]\u001b[0m\u001b[0;34m)\u001b[0m\u001b[0;34m[\u001b[0m\u001b[0;34m:\u001b[0m\u001b[0;36m2\u001b[0m\u001b[0;34m]\u001b[0m\u001b[0;34m\u001b[0m\u001b[0m\n\u001b[1;32m     12\u001b[0m \u001b[0mkcu\u001b[0m\u001b[0;34m,\u001b[0m \u001b[0mncu\u001b[0m \u001b[0;34m=\u001b[0m \u001b[0mline\u001b[0m\u001b[0;34m\u001b[0m\u001b[0m\n\u001b[0;32m---> 13\u001b[0;31m \u001b[0mnapaka\u001b[0m \u001b[0;34m=\u001b[0m \u001b[0mresid\u001b[0m \u001b[0;34m/\u001b[0m \u001b[0;34m(\u001b[0m\u001b[0mlen\u001b[0m\u001b[0;34m(\u001b[0m\u001b[0mcu\u001b[0m\u001b[0;34m[\u001b[0m\u001b[0;34m'dodajanje'\u001b[0m\u001b[0;34m]\u001b[0m\u001b[0;34m)\u001b[0m \u001b[0;34m*\u001b[0m \u001b[0mcu\u001b[0m\u001b[0;34m[\u001b[0m\u001b[0;34m'dodajanje'\u001b[0m\u001b[0;34m]\u001b[0m\u001b[0;34m.\u001b[0m\u001b[0mvar\u001b[0m\u001b[0;34m(\u001b[0m\u001b[0;34m)\u001b[0m\u001b[0;34m)\u001b[0m\u001b[0;34m\u001b[0m\u001b[0m\n\u001b[0m\u001b[1;32m     14\u001b[0m \u001b[0myfit\u001b[0m \u001b[0;34m=\u001b[0m \u001b[0;34m[\u001b[0m\u001b[0mkcu\u001b[0m \u001b[0;34m*\u001b[0m \u001b[0mxi\u001b[0m \u001b[0;34m+\u001b[0m \u001b[0mncu\u001b[0m \u001b[0;32mfor\u001b[0m \u001b[0mxi\u001b[0m \u001b[0;32min\u001b[0m \u001b[0mcux0\u001b[0m\u001b[0;34m[\u001b[0m\u001b[0;34m:\u001b[0m\u001b[0;34m-\u001b[0m\u001b[0;36m1\u001b[0m\u001b[0;34m]\u001b[0m\u001b[0;34m]\u001b[0m\u001b[0;34m\u001b[0m\u001b[0m\n\u001b[1;32m     15\u001b[0m \u001b[0mplt\u001b[0m\u001b[0;34m.\u001b[0m\u001b[0mplot\u001b[0m\u001b[0;34m(\u001b[0m\u001b[0mcux0\u001b[0m\u001b[0;34m[\u001b[0m\u001b[0;34m:\u001b[0m\u001b[0;34m-\u001b[0m\u001b[0;36m1\u001b[0m\u001b[0;34m]\u001b[0m\u001b[0;34m,\u001b[0m \u001b[0myfit\u001b[0m\u001b[0;34m)\u001b[0m\u001b[0;34m\u001b[0m\u001b[0m\n",
      "\u001b[0;31mAttributeError\u001b[0m: 'list' object has no attribute 'var'"
     ]
    },
    {
     "data": {
      "image/png": "[encoded data removed]",
      "text/plain": [
       "<matplotlib.figure.Figure at 0x7f5d475700b8>"
      ]
     },
     "metadata": {},
     "output_type": "display_data"
    }
   ],
   "source": [
    "cux0 = [i[0]*g/Scu for i in cu['dodajanje']]\n",
    "cux1 = [i[0]*g/Scu for i in cu['odvzem']]\n",
    "\n",
    "cuy0 = [i[1]/cu['dodajanje'][-1][1] for i in cu['dodajanje']]\n",
    "cuy1 = [i[1]/cu['odvzem'][0][1] for i in cu['odvzem']]\n",
    "\n",
    "plt.plot(cux0, cuy0, 'ro')\n",
    "plt.plot(cux1, cuy1, 'rs')\n",
    "\n",
    "A = np.vstack([cux0[:-1], np.ones(len(cux0[:-1]))]).T\n",
    "kcu, ncu = np.linalg.lstsq(A, cuy0[:-1])[0]\n",
    "yfit = [kcu * xi + ncu for xi in cux0[:-1]]\n",
    "plt.plot(cux0[:-1], yfit)\n",
    "\n",
    "print('Ecu = ', kcu**-1)\n",
    "print('Ecu =', kcu**-1/10**8, '* 10^8')\n",
    "print('Prekoracena je bila meja linearnosti.')"
   ]
  },
  {
   "cell_type": "code",
   "execution_count": 36,
   "metadata": {},
   "outputs": [
    {
     "name": "stdout",
     "output_type": "stream",
     "text": [
      "Eje =  1007623542.57\n",
      "Eje = 1.00762354257 * 10^9\n"
     ]
    },
    {
     "data": {
      "image/png": "[encoded data removed]",
      "text/plain": [
       "<matplotlib.figure.Figure at 0x7f5d470064e0>"
      ]
     },
     "metadata": {},
     "output_type": "display_data"
    }
   ],
   "source": [
    "jex0 = [i[0]*g/Sje for i in je['dodajanje']]\n",
    "jex1 = [i[0]*g/Sje for i in je['odvzem']]\n",
    "\n",
    "jey0 = [i[1]/je['dodajanje'][-1][1] for i in je['dodajanje']]\n",
    "jey1 = [i[1]/je['odvzem'][0][1] for i in je['odvzem']]\n",
    "\n",
    "plt.plot(jex0, jey0, 'ro')\n",
    "plt.plot(jex1, jey1, 'rs')\n",
    "\n",
    "A = np.vstack([jex0[:-1], np.ones(len(jex0[:-1]))]).T\n",
    "kje, nje = np.linalg.lstsq(A, jey0[:-1])[0]\n",
    "yfit = [kje * xi + nje for xi in jex0[:-1]]\n",
    "plt.plot(jex0[:-1], yfit)\n",
    "\n",
    "print('Eje = ', kje**-1)\n",
    "print('Eje =', kje**-1/10**9, '* 10^9')"
   ]
  },
  {
   "cell_type": "code",
   "execution_count": 39,
   "metadata": {},
   "outputs": [
    {
     "name": "stdout",
     "output_type": "stream",
     "text": [
      "meja meja linearnosti za Cu: 137650187.04928294\n",
      "meja meja linearnosti za Cu: 13.765018704928293 * 10^7\n"
     ]
    }
   ],
   "source": [
    "meja_linearnosti_cu = cu['dodajanje'][-1][0]*g/Scu\n",
    "print('meja meja linearnosti za Cu:', meja_trdnosti_cu)\n",
    "print('meja meja linearnosti za Cu:', meja_trdnosti_cu/10**7, '* 10^7')"
   ]
  },
  {
   "cell_type": "code",
   "execution_count": 41,
   "metadata": {},
   "outputs": [
    {
     "name": "stdout",
     "output_type": "stream",
     "text": [
      "meja trdnosti za Cu: 248535059.95009422\n",
      "meja trdnosti za Cu: 2.485350599500942 * 10^8\n"
     ]
    }
   ],
   "source": [
    "m_ko_se_pretrga = [2450, 2450, 2450, 2400]\n",
    "m_avg = sum(m_ko_se_pretrga)/len(m_ko_se_pretrga) / 1000\n",
    "meja_trdnosti_cu = m_avg*g/Scu\n",
    "print('meja trdnosti za Cu:', meja_trdnosti_cu)\n",
    "print('meja trdnosti za Cu:', meja_trdnosti_cu/10**8, '* 10^8')"
   ]
  }
 ],
 "metadata": {
  "kernelspec": {
   "display_name": "Python 3",
   "language": "python",
   "name": "python3"
  },
  "language_info": {
   "codemirror_mode": {
    "name": "ipython",
    "version": 3
   },
   "file_extension": ".py",
   "mimetype": "text/x-python",
   "name": "python",
   "nbconvert_exporter": "python",
   "pygments_lexer": "ipython3",
   "version": "3.6.3"
  }
 },
 "nbformat": 4,
 "nbformat_minor": 2
}
