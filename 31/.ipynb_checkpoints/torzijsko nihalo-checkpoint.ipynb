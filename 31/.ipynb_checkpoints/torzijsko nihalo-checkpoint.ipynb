{
 "cells": [
  {
   "cell_type": "code",
   "execution_count": 1,
   "metadata": {},
   "outputs": [],
   "source": [
    "import numpy as np\n",
    "import matplotlib.pyplot as plt\n",
    "%matplotlib inline"
   ]
  },
  {
   "cell_type": "code",
   "execution_count": 7,
   "metadata": {},
   "outputs": [],
   "source": [
    "\n",
    "def graph(x, y, top_offset=2):\n",
    "    plt.ylim(ymin=0, ymax=(max(y) + top_offset))\n",
    "    plt.plot(x, y, 'ro')\n",
    "\n",
    "    A = np.vstack([x, np.ones(len(x))]).T\n",
    "    line, resid = np.linalg.lstsq(A, y)[:2] # fit line\n",
    "    k, n = line[0], line[1]\n",
    "    yfit = [k * xi + n for xi in x]\n",
    "    plt.plot(x, yfit)\n",
    "    return (line[0], line[1], resid / (len(x) * np.var(x)))\n"
   ]
  },
  {
   "cell_type": "code",
   "execution_count": 21,
   "metadata": {},
   "outputs": [
    {
     "name": "stdout",
     "output_type": "stream",
     "text": [
      "2.519994107157588\n"
     ]
    },
    {
     "data": {
      "text/plain": [
       "(0.0016878872948269772, 0.035638981450323161, array([  1.30274511e-06]))"
      ]
     },
     "execution_count": 21,
     "metadata": {},
     "output_type": "execute_result"
    },
    {
     "data": {
      "image/png": "[encoded data removed]",
      "text/plain": [
       "<matplotlib.figure.Figure at 0x7f9d2f0eb710>"
      ]
     },
     "metadata": {},
     "output_type": "display_data"
    }
   ],
   "source": [
    "t0_neduseno = sum([12.42, 12.52, 12.46])/(3*5)\n",
    "a_neduseno = [19, 17, 16, 14, 13, 11, 10, 8, 7, 6, 5]\n",
    "\n",
    "omega_d_neduseno = 2*np.pi/t0_neduseno\n",
    "print(omega_d_neduseno)\n",
    "\n",
    "\n",
    "n = list(range(1, 11, 1))\n",
    "beta = []\n",
    "for i in range(1, len(n)+1, 1):\n",
    "    b = omega_d_neduseno/(2*np.pi*i)*np.log(a_neduseno[0]/a_neduseno[i])\n",
    "    beta.append(b)\n",
    "\n",
    "graph(n, beta, top_offset=0.01)\n",
    "\n",
    "\n",
    "\n",
    "# a_duseno = [19, 16, 13, 10, 8, 6, 4, 3, 2.3, 1.2, 1]"
   ]
  }
 ],
 "metadata": {
  "kernelspec": {
   "display_name": "Python 3",
   "language": "python",
   "name": "python3"
  },
  "language_info": {
   "codemirror_mode": {
    "name": "ipython",
    "version": 3
   },
   "file_extension": ".py",
   "mimetype": "text/x-python",
   "name": "python",
   "nbconvert_exporter": "python",
   "pygments_lexer": "ipython3",
   "version": "3.6.3"
  }
 },
 "nbformat": 4,
 "nbformat_minor": 2
}
