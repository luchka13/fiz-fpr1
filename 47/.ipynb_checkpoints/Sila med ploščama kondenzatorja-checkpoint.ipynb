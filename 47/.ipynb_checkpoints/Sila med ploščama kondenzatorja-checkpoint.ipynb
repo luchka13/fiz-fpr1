{
 "cells": [
  {
   "cell_type": "code",
   "execution_count": 2,
   "metadata": {},
   "outputs": [],
   "source": [
    "import numpy as np\n",
    "import matplotlib.pyplot as plt\n",
    "%matplotlib inline"
   ]
  },
  {
   "cell_type": "code",
   "execution_count": 3,
   "metadata": {},
   "outputs": [],
   "source": [
    "\n",
    "def graph(x, y, top_offset=2, color='r', fit_line=True, connect=False):\n",
    "    plt.ylim(ymin=0, ymax=(max(y) + top_offset))\n",
    "    if connect:\n",
    "        plt.plot(x, y, color + '-o')\n",
    "    else:\n",
    "        plt.plot(x, y, color + 'o')\n",
    "\n",
    "    A = np.vstack([x, np.ones(len(x))]).T\n",
    "    line, resid = np.linalg.lstsq(A, y)[:2] # fit line\n",
    "    k, n = line[0], line[1]\n",
    "    yfit = [k * xi + n for xi in x]\n",
    "    if fit_line: plt.plot(x, yfit)\n",
    "    return (line[0], line[1], resid / (len(x) * np.var(x)))\n"
   ]
  },
  {
   "cell_type": "code",
   "execution_count": 4,
   "metadata": {},
   "outputs": [
    {
     "name": "stdout",
     "output_type": "stream",
     "text": [
      "0.04\n"
     ]
    },
    {
     "data": {
      "image/png": "[encoded data removed]",
      "text/plain": [
       "<matplotlib.figure.Figure at 0x7f32701ada58>"
      ]
     },
     "metadata": {},
     "output_type": "display_data"
    }
   ],
   "source": [
    "# k vzmeti\n",
    "meritve_vzmet = {\n",
    "    0.5: 0.02,\n",
    "    1: 0.04,\n",
    "    1.5: 0.06\n",
    "}\n",
    "\n",
    "k_vzmeti, n, err = graph(\n",
    "    [k for k in meritve_vzmet.keys()],\n",
    "    [meritve_vzmet[k] for k in meritve_vzmet.keys()],\n",
    "    top_offset = 0.01\n",
    ")\n",
    "\n",
    "print(k_vzmeti)"
   ]
  },
  {
   "cell_type": "code",
   "execution_count": 9,
   "metadata": {},
   "outputs": [
    {
     "name": "stdout",
     "output_type": "stream",
     "text": [
      "(1.4144999999999999, 4.441983250038591)\n",
      "(1.4136875, 4.44453622683909)\n"
     ]
    }
   ],
   "source": [
    "def calculate(t, n):\n",
    "    t0 = t/n\n",
    "    omega = 2*np.pi/t0\n",
    "    return (t0, omega)\n",
    "\n",
    "def avg(arr):\n",
    "    return sum(arr)/len(arr)\n",
    "\n",
    "# skupaj v isto smer t40 levi in desni\n",
    "print('skupaj v isto smer t40 levi:', calculate(avg([56.8, 56.6, 56.42, 56.5]), 40))\n",
    "print('skupaj v isto smer t40 desni:', calculate(avg([56.67, 56.43, 56.50, 56.59]), 40))\n",
    "\n",
    "# skupaj v isto smer t40 levi in desni\n",
    "print(calculate(avg([56.8, 56.6, 56.42, 56.5]), 40))\n",
    "print(calculate(avg([56.67, 56.43, 56.50, 56.59]), 40))"
   ]
  }
 ],
 "metadata": {
  "kernelspec": {
   "display_name": "Python 3",
   "language": "python",
   "name": "python3"
  },
  "language_info": {
   "codemirror_mode": {
    "name": "ipython",
    "version": 3
   },
   "file_extension": ".py",
   "mimetype": "text/x-python",
   "name": "python",
   "nbconvert_exporter": "python",
   "pygments_lexer": "ipython3",
   "version": "3.6.3"
  }
 },
 "nbformat": 4,
 "nbformat_minor": 2
}
