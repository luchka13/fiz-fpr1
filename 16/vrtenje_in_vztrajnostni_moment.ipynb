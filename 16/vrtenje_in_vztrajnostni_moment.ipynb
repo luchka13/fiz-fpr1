{
 "cells": [
  {
   "cell_type": "markdown",
   "metadata": {},
   "source": [
    "# Vrtenje in vztrajnostni moment telesa"
   ]
  },
  {
   "cell_type": "markdown",
   "metadata": {},
   "source": [
    "**Datum meritev**: 27. 10. 2017\n",
    "\n",
    "**Merila**:\n",
    "- Žiga Patačko Koderman\n",
    "- Yap Ploj\n",
    "\n",
    "Meritve opravljene po navodilih v [navodila.pdf](vrtenje_in_vztrajnostni_moment_telesa.pdf).\n",
    "\n",
    "Vsebine map:\n",
    "- `brez_dodatnih_koles` - samo glavno kolo, ki ga pospešeno vrti utež, katere teža je zapisana v imenu posamezne datoteke,\n",
    "- `gibljivo_vpeta_dodatna_kolesa` - gibljivo vpeta_dodatna_kolesa, glavno kolo pa vrti utež, katere teža je zapisana v imenu posamezne datoteke,\n",
    "- `togo_vpeta_dodatna_kolesa` - togo vpeta_dodatna_kolesa, glavno kolo pa vrti utež, katere teža je zapisana v imenu posamezne datoteke,\n",
    "- `upor_lezaja` - kolo zavrteno z roko, da določimo približen upor ležaja,\n",
    "\n",
    "Originalne meritve so bile zapisane narobe: Logger Pro je izvoz v csv (Comma Separated Values) naredil tako, da je vejico uporabil tako za ločilo med podatki kot za decimalno ločilo. Originalne datoteke so bile zato popravljene z programom [`convert.py`](convert.py), prepoznamo pa jih po predponi `'converted_'`."
   ]
  },
  {
   "cell_type": "markdown",
   "metadata": {},
   "source": [
    "## Obdelava podatkov\n",
    "\n",
    "Vključitev vseh knjižnic:"
   ]
  },
  {
   "cell_type": "code",
   "execution_count": 2,
   "metadata": {},
   "outputs": [],
   "source": [
    "import numpy as np\n",
    "import pandas as pnd\n",
    "import matplotlib.pyplot as plt\n",
    "%matplotlib inline"
   ]
  },
  {
   "cell_type": "markdown",
   "metadata": {},
   "source": [
    "Branje podatkov:"
   ]
  },
  {
   "cell_type": "code",
   "execution_count": 27,
   "metadata": {},
   "outputs": [],
   "source": [
    "rj = (0.0201, 0.005)\n",
    "utezi = {\n",
    "    '50g': 0.05,\n",
    "    '100g': 0.1\n",
    "}\n",
    "g = 9.81\n",
    "alpha = {}\n",
    "J = {}\n",
    "r_dodatnega_kolesa = (0.047, 0.002)\n",
    "m_dodatnega_kolesa = (0.515, 0.002)\n",
    "razdalja_osi = (0.0735, 0.0015)\n",
    "\n",
    "upori = [\n",
    "    pnd.read_csv('data/upor_lezaja/converted_0.csv', usecols=[0, 2], dtype=float),\n",
    "    pnd.read_csv('data/upor_lezaja/converted_1.csv', usecols=[0, 2], dtype=float),\n",
    "    pnd.read_csv('data/upor_lezaja/converted_2.csv', usecols=[0, 2], dtype=float)\n",
    "]\n",
    "brez_dodatnih_koles = {\n",
    "    '50g': [\n",
    "        pnd.read_csv('data/brez_dodatnih_koles/converted_50g_0.csv', usecols=[0, 2], dtype=float),\n",
    "        pnd.read_csv('data/brez_dodatnih_koles/converted_50g_1.csv', usecols=[0, 2], dtype=float),\n",
    "        pnd.read_csv('data/brez_dodatnih_koles/converted_50g_2.csv', usecols=[0, 2], dtype=float)\n",
    "    ],\n",
    "    '100g': [\n",
    "        pnd.read_csv('data/brez_dodatnih_koles/converted_100g_0.csv', usecols=[0, 2], dtype=float),\n",
    "        pnd.read_csv('data/brez_dodatnih_koles/converted_100g_1.csv', usecols=[0, 2], dtype=float),\n",
    "        pnd.read_csv('data/brez_dodatnih_koles/converted_100g_2.csv', usecols=[0, 2], dtype=float)\n",
    "    ]\n",
    "}\n",
    "gibljivo = {\n",
    "    '50g': [\n",
    "        pnd.read_csv('data/gibljivo_vpeta_dodatna_kolesa/converted_50g_0.csv', usecols=[0, 2], dtype=float),\n",
    "        pnd.read_csv('data/gibljivo_vpeta_dodatna_kolesa/converted_50g_1.csv', usecols=[0, 2], dtype=float),\n",
    "        pnd.read_csv('data/gibljivo_vpeta_dodatna_kolesa/converted_50g_2.csv', usecols=[0, 2], dtype=float)\n",
    "    ],\n",
    "    '100g': [\n",
    "        pnd.read_csv('data/gibljivo_vpeta_dodatna_kolesa/converted_100g_0.csv', usecols=[0, 2], dtype=float),\n",
    "        pnd.read_csv('data/gibljivo_vpeta_dodatna_kolesa/converted_100g_1.csv', usecols=[0, 2], dtype=float),\n",
    "        pnd.read_csv('data/gibljivo_vpeta_dodatna_kolesa/converted_100g_2.csv', usecols=[0, 2], dtype=float)\n",
    "    ]\n",
    "}\n",
    "togo = {\n",
    "    '50g': [\n",
    "        pnd.read_csv('data/togo_vpeta_dodatna_kolesa/converted_50g_0.csv', usecols=[0, 2], dtype=float),\n",
    "        pnd.read_csv('data/togo_vpeta_dodatna_kolesa/converted_50g_1.csv', usecols=[0, 2], dtype=float),\n",
    "        pnd.read_csv('data/togo_vpeta_dodatna_kolesa/converted_50g_2.csv', usecols=[0, 2], dtype=float)\n",
    "    ],\n",
    "    '100g': [\n",
    "        pnd.read_csv('data/togo_vpeta_dodatna_kolesa/converted_100g_0.csv', usecols=[0, 2], dtype=float),\n",
    "        pnd.read_csv('data/togo_vpeta_dodatna_kolesa/converted_100g_1.csv', usecols=[0, 2], dtype=float),\n",
    "        pnd.read_csv('data/togo_vpeta_dodatna_kolesa/converted_100g_2.csv', usecols=[0, 2], dtype=float)\n",
    "    ]\n",
    "}\n"
   ]
  },
  {
   "cell_type": "markdown",
   "metadata": {},
   "source": [
    "Funkcija za izracun povprecnega kotnega pospeska iz treh meritev:"
   ]
  },
  {
   "cell_type": "code",
   "execution_count": 28,
   "metadata": {},
   "outputs": [],
   "source": [
    "def alpha_from_graphs(graphs, correction):\n",
    "    result = 0\n",
    "    r2 = []\n",
    "    for i in range(3):\n",
    "        graph = graphs[i]\n",
    "        x = np.array(graph['time'])\n",
    "        y = np.array(graph['omega'])\n",
    "        A = np.vstack([x, np.ones(len(x))]).T\n",
    "        #line, cov = np.polyfit(graph['time'], graph['omega'], 1, cov=True) # fit line\n",
    "        line, resid = np.linalg.lstsq(A, y)[:2] # fit line\n",
    "        result += line[0] + correction # add new line to avg\n",
    "        r2.append(g)\n",
    "            \n",
    "    result /= 3# calculate average\n",
    "    return result, max(r2)[0]"
   ]
  },
  {
   "cell_type": "markdown",
   "metadata": {},
   "source": [
    "Izracun vztrajnostnega momenta praznega kolesa:"
   ]
  },
  {
   "cell_type": "code",
   "execution_count": 29,
   "metadata": {},
   "outputs": [
    {
     "name": "stdout",
     "output_type": "stream",
     "text": [
      "upor lezaja: (-0.10321217797878286, 0.005792556512800159) 1/s^2\n",
      "alpha za 50g in 100g 0.607361946747 0.928180448889\n",
      "J praznega kolesa za 50g in 100g 0.0162123772122 0.0212034207413\n",
      "J kolesa: 0.0187078989768 * (1 +- 0.011403559355 ) kgm^2\n"
     ]
    }
   ],
   "source": [
    "alpha['upor'] = alpha_from_graphs(upori, 0)\n",
    "print('upor lezaja:', alpha['upor'], '1/s^2')\n",
    "\n",
    "alpha['brez_dodatnih_koles_50g'] = alpha_from_graphs(brez_dodatnih_koles['50g'], -alpha['upor'][0])\n",
    "alpha['brez_dodatnih_koles_100g'] = alpha_from_graphs(brez_dodatnih_koles['100g'], -alpha['upor'][0])\n",
    "\n",
    "alpha['brez_dodatnih_koles_50g'] = (alpha['brez_dodatnih_koles_50g'][0] - alpha['upor'][0], alpha['brez_dodatnih_koles_50g'][1])\n",
    "\n",
    "print('alpha za 50g in 100g', alpha['brez_dodatnih_koles_50g'][0], alpha['brez_dodatnih_koles_100g'][0])\n",
    "\n",
    "J['brez_dodatnih_koles_50g'] = ((utezi['50g']*(rj[0]*g-rj[0]**2*alpha['brez_dodatnih_koles_50g'][0]))/alpha['brez_dodatnih_koles_50g'][0],\n",
    "                                2*rj[1]+2*alpha['brez_dodatnih_koles_50g'][1])\n",
    "J['brez_dodatnih_koles_100g'] = ((utezi['100g']*(rj[0]*g-rj[0]**2*alpha['brez_dodatnih_koles_100g'][0]))/alpha['brez_dodatnih_koles_100g'][0],\n",
    "                                2*rj[1]+2*alpha['brez_dodatnih_koles_100g'][1])\n",
    "J['brez_dodatnih_koles'] = ((J['brez_dodatnih_koles_100g'][0] + J['brez_dodatnih_koles_50g'][0]) / 2,\n",
    "                           max([J['brez_dodatnih_koles_100g'][1], J['brez_dodatnih_koles_50g'][1]]))\n",
    "\n",
    "print('J praznega kolesa za 50g in 100g', J['brez_dodatnih_koles_50g'][0], J['brez_dodatnih_koles_100g'][0])\n",
    "print('J kolesa:', J['brez_dodatnih_koles'][0], '* (1 +-', J['brez_dodatnih_koles'][1] ,') kgm^2')"
   ]
  },
  {
   "cell_type": "markdown",
   "metadata": {},
   "source": [
    "In podatki za togo vpeta manjsa kolesa:"
   ]
  },
  {
   "cell_type": "code",
   "execution_count": 30,
   "metadata": {},
   "outputs": [
    {
     "name": "stdout",
     "output_type": "stream",
     "text": [
      "alpha za 50g in 100g 0.346798920606 0.592579745363\n",
      "J togo za 50g in 100g 0.0284085212007 0.0332346141423\n",
      "J togo: 0.0308215676715 * (1 +- 0.0212698524647 ) kgm^2\n"
     ]
    }
   ],
   "source": [
    "alpha['togo_50g'] = alpha_from_graphs(togo['50g'], -alpha['upor'][0])\n",
    "alpha['togo_100g'] = alpha_from_graphs(togo['100g'], -alpha['upor'][0])\n",
    "\n",
    "print('alpha za 50g in 100g', alpha['togo_50g'][0], alpha['togo_100g'][0])\n",
    "\n",
    "J['togo_50g'] = ((utezi['50g']*(rj[0]*g-rj[0]**2*alpha['togo_50g'][0]))/alpha['togo_50g'][0],\n",
    "                                2*rj[1]+2*alpha['togo_50g'][1])\n",
    "J['togo_100g'] = ((utezi['100g']*(rj[0]*g-rj[0]**2*alpha['togo_100g'][0]))/alpha['togo_100g'][0],\n",
    "                                2*rj[1]+2*alpha['togo_100g'][1])\n",
    "J['togo'] = ((J['togo_100g'][0] + J['togo_50g'][0]) / 2,\n",
    "                           max([J['togo_100g'][1], J['togo_50g'][1]]))\n",
    "\n",
    "print('J togo za 50g in 100g', J['togo_50g'][0], J['togo_100g'][0])\n",
    "print('J togo:', J['togo'][0], '* (1 +-', J['togo'][1] ,') kgm^2')"
   ]
  },
  {
   "cell_type": "markdown",
   "metadata": {},
   "source": [
    "Izracun podatkov za togo vpeta kolesa:"
   ]
  },
  {
   "cell_type": "code",
   "execution_count": 31,
   "metadata": {
    "scrolled": true
   },
   "outputs": [
    {
     "name": "stdout",
     "output_type": "stream",
     "text": [
      "izracunan J za togo vpeta kolesa 0.0254098514768 * (1 +- 0.017403559355 ) kgm^2\n"
     ]
    }
   ],
   "source": [
    "J['izracunan_togo'] = (J['brez_dodatnih_koles'][0] + 2*(0.5*m_dodatnega_kolesa[0]*r_dodatnega_kolesa[0]**2 + m_dodatnega_kolesa[0]*razdalja_osi[0]**2),\n",
    "                       J['brez_dodatnih_koles'][1] + m_dodatnega_kolesa[1] + 2*r_dodatnega_kolesa[1])\n",
    "print('izracunan J za togo vpeta kolesa', J['izracunan_togo'][0], '* (1 +-', J['izracunan_togo'][1] ,') kgm^2')"
   ]
  },
  {
   "cell_type": "markdown",
   "metadata": {},
   "source": [
    "Gibljivo vpeta manjsa kolesa:"
   ]
  },
  {
   "cell_type": "code",
   "execution_count": 32,
   "metadata": {},
   "outputs": [
    {
     "name": "stdout",
     "output_type": "stream",
     "text": [
      "alpha za 50g in 100g 0.349076461743 0.600480213063\n",
      "J gibljivo za 50g in 100g 0.0282230386768 0.0327968175645\n",
      "J gibljivo: 0.0305099281206 * (1 +- 0.0127681491178 ) kgm^2\n"
     ]
    }
   ],
   "source": [
    "alpha['gibljivo_50g'] = alpha_from_graphs(gibljivo['50g'], -alpha['upor'][0])\n",
    "alpha['gibljivo_100g'] = alpha_from_graphs(gibljivo['100g'], -alpha['upor'][0])\n",
    "\n",
    "print('alpha za 50g in 100g', alpha['gibljivo_50g'][0], alpha['gibljivo_100g'][0])\n",
    "\n",
    "J['gibljivo_50g'] = ((utezi['50g']*(rj[0]*g-rj[0]**2*alpha['gibljivo_50g'][0]))/alpha['gibljivo_50g'][0],\n",
    "                                2*rj[1]+2*alpha['gibljivo_50g'][1])\n",
    "J['gibljivo_100g'] = ((utezi['100g']*(rj[0]*g-rj[0]**2*alpha['gibljivo_100g'][0]))/alpha['gibljivo_100g'][0],\n",
    "                                2*rj[1]+2*alpha['gibljivo_100g'][1])\n",
    "J['gibljivo'] = ((J['gibljivo_100g'][0] + J['gibljivo_50g'][0]) / 2,\n",
    "                           max([J['gibljivo_100g'][1], J['gibljivo_50g'][1]]))\n",
    "\n",
    "print('J gibljivo za 50g in 100g', J['gibljivo_50g'][0], J['gibljivo_100g'][0])\n",
    "print('J gibljivo:', J['gibljivo'][0], '* (1 +-', J['gibljivo'][1] ,') kgm^2')"
   ]
  },
  {
   "cell_type": "markdown",
   "metadata": {},
   "source": [
    "Izracun za gibljivo vpeta:"
   ]
  },
  {
   "cell_type": "code",
   "execution_count": 33,
   "metadata": {},
   "outputs": [
    {
     "name": "stdout",
     "output_type": "stream",
     "text": [
      "izracunan J za gibljivo vpeta kolesa 0.0242722164768 * (1 +- 0.016403559355 ) kgm^2\n"
     ]
    }
   ],
   "source": [
    "J['izracunan_gibljivo'] = (J['brez_dodatnih_koles'][0] + 2*m_dodatnega_kolesa[0]*razdalja_osi[0]**2,\n",
    "                       J['brez_dodatnih_koles'][1] + m_dodatnega_kolesa[1] + razdalja_osi[1]*2)\n",
    "print('izracunan J za gibljivo vpeta kolesa', J['izracunan_gibljivo'][0], '* (1 +-', J['izracunan_gibljivo'][1] ,') kgm^2')"
   ]
  },
  {
   "cell_type": "markdown",
   "metadata": {},
   "source": [
    "Veljavnost izreka o energiji:\n",
    "Podatki so vzeti iz meritev za togo vpeta dodatna kolesa pri utezi z maso 50g, po tem ko pade utez za 0.2367 m.\n",
    "\n",
    "$$\n",
    "m_u = 0.050\\ kg \\\\\n",
    "h = 0.2367 *\\ (1 \\pm 0.002) \\ m \\\\\n",
    "\\omega = 2.450 *\\ (1 \\pm 0.05)\\ s^{-1}\\\\\n",
    "v_u = 0.049 *\\ (1 \\pm 0.05)\\ \\frac{m}{s}\\\\\n",
    "J = 0.031\\ kgm^2 \n",
    "$$\n",
    "\n",
    "Izrek o energiji:\n",
    "$$\n",
    "m_ugh = \\frac{J \\omega}{2} + \\frac{m_u v_u^2}{2}\n",
    "$$\n",
    "\n",
    "$$\n",
    "m_ugh =  0.116 * (1\\pm0.02)\\ J\n",
    "$$\n",
    "\n",
    "$$\n",
    "\\frac{J \\omega}{2} + \\frac{m_u v_u^2}{2} = 0.093 * (1\\pm0.2)\\ J\n",
    "$$"
   ]
  },
  {
   "cell_type": "markdown",
   "metadata": {},
   "source": [
    "### Izpis rezultatov\n",
    "\n",
    "Upor lezaja: $$ \\alpha_{tr} = -0.103*(1 \\pm 0.006)\\ s^{-2} $$\n",
    "\n",
    "J praznega kolesa: $$ J_{kolesa} = 0.019 * (1 \\pm 0.011 )\\ kgm^{2} $$\n",
    "\n",
    "J kolesa z togo vpetimi manjsimi kolesi: $$ J_{togo} = 0.031 * (1 \\pm 0.021 )\\ kgm^{2} $$\n",
    "\n",
    "Izracunan J kolesa z togo vpetimi manjsimi kolesi: $$ J_{togo\\ izracunan} = 0.025 * (1 \\pm 0.017 )\\ kgm^{2} $$\n",
    "\n",
    "J kolesa z gibljivo vpetimi manjsimi kolesi: $$ J_{gibljivo} = 0.031 * (1 \\pm 0.012 )\\ kgm^{2} $$\n",
    "\n",
    "Izracunan J kolesa z togo vpetimi manjsimi kolesi: $$ J_{gibljivo\\ izracunan} = 0.024 * (1 \\pm 0.016 )\\ kgm^{2} $$"
   ]
  },
  {
   "cell_type": "markdown",
   "metadata": {},
   "source": [
    "## Komentar\n",
    "\n",
    "Upor lezaja in J praznega kolesa se gibljeta okoli logicnih vrednosti, tocnejsih pricakovanj pa nismo imeli. Ko dodamo manjsi kolesi se J poveca, vendar za skoraj enkrat vec, ko smo pricakovali - ?????. Podobno je pri gibljivem kolesu.\n",
    "\n",
    "Zelo podobni sta izracunani vrednosti za gibljivo in togo vpeti kolesi, po pricakovanjih pa je pri gibljivo vpetih kolesih J manjsi. Rezultata meritev za ta dva, primera pa sta skoraj enaka, vendar v okviru napak meritve. Tezava je bila tudi velik upor lezajev, na katere smo pritrdili manjsa kolesa.\n",
    "\n",
    "Pri preverjanju energiskega zakona, naletimo na 20% odstopanje (se vedno v okviru napak), kar je kar precej - pri tem gre najbrs za vpljiv napak iz prejsnjih meritev.\n",
    "\n",
    "Meritve bi izboljsal z uporabo manjsih utezi in podmazovanjem lezajev (tezave v lezaju in nehomogenosti kolesa so razvidne iz grafa 2). Zelo veliko napako nosi tudi r jermenice, tako da bi ga lahko izmeril se natancneje. Vecjo razliko med togo in gibljivo vpetimi kolesi bi dobil tudi, ce bi celoten sistem povecal - bolje bi bilo ze ce bi imela manjsa kolesa vecjo maso."
   ]
  },
  {
   "cell_type": "code",
   "execution_count": 34,
   "metadata": {},
   "outputs": [
    {
     "name": "stdout",
     "output_type": "stream",
     "text": [
      "Graf 1:\n"
     ]
    },
    {
     "data": {
      "text/plain": [
       "<matplotlib.text.Text at 0x7f53ca9157b8>"
      ]
     },
     "execution_count": 34,
     "metadata": {},
     "output_type": "execute_result"
    },
    {
     "data": {
      "image/png": "[encoded data removed]",
      "text/plain": [
       "<matplotlib.figure.Figure at 0x7f53cd253438>"
      ]
     },
     "metadata": {},
     "output_type": "display_data"
    }
   ],
   "source": [
    "print('Graf 1:')\n",
    "plt.plot(brez_dodatnih_koles['50g'][0]['time'], brez_dodatnih_koles['50g'][0]['omega'])\n",
    "plt.ylabel('\\u03C9 [1/s]')\n",
    "plt.xlabel('time [s]')\n",
    "plt.title('\\u03C9(t) pri utezi 50g brez dodatnih koles')"
   ]
  },
  {
   "cell_type": "code",
   "execution_count": 35,
   "metadata": {},
   "outputs": [
    {
     "name": "stdout",
     "output_type": "stream",
     "text": [
      "Graf 2:\n"
     ]
    },
    {
     "data": {
      "text/plain": [
       "<matplotlib.text.Text at 0x7f53ca895b00>"
      ]
     },
     "execution_count": 35,
     "metadata": {},
     "output_type": "execute_result"
    },
    {
     "data": {
      "image/png": "[encoded data removed]",
      "text/plain": [
       "<matplotlib.figure.Figure at 0x7f53ca8dc0b8>"
      ]
     },
     "metadata": {},
     "output_type": "display_data"
    }
   ],
   "source": [
    "print('Graf 2:')\n",
    "plt.plot(upori[0]['time'], upori[0]['omega'])\n",
    "plt.ylabel('\\u03C9 [1/s]')\n",
    "plt.xlabel('time [s]')\n",
    "plt.title('\\u03C9(t) pri meritvi upora (brez utezi in dodatnih koles)')"
   ]
  },
  {
   "cell_type": "code",
   "execution_count": null,
   "metadata": {},
   "outputs": [],
   "source": []
  }
 ],
 "metadata": {
  "kernelspec": {
   "display_name": "Python 3",
   "language": "python",
   "name": "python3"
  },
  "language_info": {
   "codemirror_mode": {
    "name": "ipython",
    "version": 3
   },
   "file_extension": ".py",
   "mimetype": "text/x-python",
   "name": "python",
   "nbconvert_exporter": "python",
   "pygments_lexer": "ipython3",
   "version": "3.6.3"
  }
 },
 "nbformat": 4,
 "nbformat_minor": 2
}
