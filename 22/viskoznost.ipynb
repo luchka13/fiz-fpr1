{
 "cells": [
  {
   "cell_type": "code",
   "execution_count": 3,
   "metadata": {},
   "outputs": [],
   "source": [
    "import numpy as np\n",
    "import matplotlib.pyplot as plt\n",
    "%matplotlib inline"
   ]
  },
  {
   "cell_type": "code",
   "execution_count": 64,
   "metadata": {},
   "outputs": [],
   "source": [
    "# time [ms], omega\n",
    "def readcsv(file):\n",
    "    result = []\n",
    "    with open(file, 'r') as f:\n",
    "        for line in f:\n",
    "            line = line[:-1].split(',')[:-1]\n",
    "            if line[1] == '0' and line[3] != '': result.append([float(line[0]), float(line[3])])\n",
    "    return result\n",
    "\n",
    "def graph(data, draw=True, top_offset=2):\n",
    "    x = [i[0] for i in data]\n",
    "    y = [i[1] for i in data]\n",
    "    if draw:\n",
    "        plt.ylim(ymin=0, ymax=(max(y) + top_offset))\n",
    "        plt.plot(x, y, 'ro')\n",
    "\n",
    "    A = np.vstack([x, np.ones(len(x))]).T\n",
    "    line, resid = np.linalg.lstsq(A, y)[:2] # fit line\n",
    "    k, n = line[0], line[1]\n",
    "    if draw:\n",
    "        yfit = [k * xi + n for xi in x]\n",
    "        plt.plot(x, yfit)\n",
    "    return (line[0], line[1], resid / (len(x) * np.var(x)))\n",
    "\n",
    "def accel_from_range(r):\n",
    "    alpha = 0\n",
    "    alpha_err = 0\n",
    "\n",
    "    for i in r:\n",
    "        d = readcsv('data/' + str(i) + '.csv')\n",
    "        k, n, err = graph(d, draw=False)\n",
    "        alpha += k\n",
    "        if alpha_err < err[0]: alpha_err = err[0]\n",
    "\n",
    "    k /= 3\n",
    "    return (k, alpha_err)\n",
    "\n",
    "def omega_from_range(r):\n",
    "    omega = 0\n",
    "    for i in r:\n",
    "        a = readcsv('data/' + str(i) + '.csv')\n",
    "        omega += sum([j[1] for j in a]) / len(a)\n",
    "    return omega/len(r)\n",
    "\n",
    "def ni(ran, mu):\n",
    "    omega = omega_from_range(ran)\n",
    "    k = 1.424e-3\n",
    "    return (mu * 9.81 * (0.053/2))/(k*omega)"
   ]
  },
  {
   "cell_type": "code",
   "execution_count": 58,
   "metadata": {},
   "outputs": [
    {
     "name": "stdout",
     "output_type": "stream",
     "text": [
      "upor: -0.68288135188 0.0323195019458\n",
      "alpha za vztrajnostni z vstetim uporom 0.91755788036 0.0323195019458\n"
     ]
    }
   ],
   "source": [
    "upor = accel_from_range(range(21, 24, 1))\n",
    "print('upor:', upor[0], upor[1])\n",
    "\n",
    "vztrajnostni = accel_from_range(range(18, 21, 1))\n",
    "alpha_vztrajnostni = (vztrajnostni[0] - upor[0], max([vztrajnostni[1], upor[1]]))\n",
    "print('alpha za vztrajnostni z vstetim uporom', alpha_vztrajnostni[0], alpha_vztrajnostni[1])"
   ]
  },
  {
   "cell_type": "code",
   "execution_count": 68,
   "metadata": {},
   "outputs": [
    {
     "name": "stdout",
     "output_type": "stream",
     "text": [
      "ni za 2g: 0.20992388282643173\n",
      "ni za 3g: 0.1953791695920703\n",
      "ni za 4g: 0.1837806043954762\n",
      "0.19636121893799274\n"
     ]
    }
   ],
   "source": [
    "dva = ni(range(3, 8, 1), 0.002)\n",
    "tri = ni(range(8, 13, 1), 0.003)\n",
    "stiri = ni(range(13, 16, 1), 0.004)\n",
    "print('ni za 2g:', dva)\n",
    "print('ni za 3g:', tri)\n",
    "print('ni za 4g:', stiri)\n",
    "print(sum([dva, tri, stiri])/3)"
   ]
  },
  {
   "cell_type": "code",
   "execution_count": 71,
   "metadata": {},
   "outputs": [
    {
     "data": {
      "text/plain": [
       "(0.0015110130676314806, 1.7225898869708873, array([ 0.00025296]))"
      ]
     },
     "execution_count": 71,
     "metadata": {},
     "output_type": "execute_result"
    },
    {
     "data": {
      "image/png": "[encoded data removed]",
      "text/plain": [
       "<matplotlib.figure.Figure at 0x7f073a64aac8>"
      ]
     },
     "metadata": {},
     "output_type": "display_data"
    }
   ],
   "source": [
    "graph(readcsv('data/3.csv'))"
   ]
  }
 ],
 "metadata": {
  "kernelspec": {
   "display_name": "Python 3",
   "language": "python",
   "name": "python3"
  },
  "language_info": {
   "codemirror_mode": {
    "name": "ipython",
    "version": 3
   },
   "file_extension": ".py",
   "mimetype": "text/x-python",
   "name": "python",
   "nbconvert_exporter": "python",
   "pygments_lexer": "ipython3",
   "version": "3.6.3"
  }
 },
 "nbformat": 4,
 "nbformat_minor": 2
}
