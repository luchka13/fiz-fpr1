{
 "cells": [
  {
   "cell_type": "code",
   "execution_count": 16,
   "metadata": {},
   "outputs": [],
   "source": [
    "import numpy as np\n",
    "import pandas as pnd\n",
    "import matplotlib.pyplot as plt\n",
    "%matplotlib inline"
   ]
  },
  {
   "cell_type": "code",
   "execution_count": 33,
   "metadata": {},
   "outputs": [
    {
     "name": "stdout",
     "output_type": "stream",
     "text": [
      "[[0.316184, 1.78], [0.610922, 1.763], [0.910584, 1.723], [1.219484, 1.679], [1.534891, 1.657], [1.85183, 1.662], [2.16552, 1.681], [2.475184, 1.697], [2.783005, 1.73], [3.081384, 1.767], [3.376184, 1.784], [3.668984, 1.787], [3.962729, 1.768], [4.261886, 1.733], [4.567484, 1.693], [4.881184, 1.665], [5.196816, 1.661], [5.512184, 1.654], [5.830287, 1.67], [6.140108, 1.713], [6.442323, 1.753], [6.737984, 1.788], [7.028584, 1.799], [7.320531, 1.792], [7.613518, 1.784], [7.90809, 1.77], [8.205505, 1.748], [8.507603, 1.719], [8.815186, 1.712], [9.119623, 1.725], [9.422816, 1.732]]\n"
     ]
    },
    {
     "data": {
      "image/png": "[encoded data removed]",
      "text/plain": [
       "<matplotlib.figure.Figure at 0x7f978b5ee2b0>"
      ]
     },
     "metadata": {},
     "output_type": "display_data"
    }
   ],
   "source": [
    "# time [ms], omega\n",
    "def readcsv(file):\n",
    "    result = []\n",
    "    with open(file, 'r') as f:\n",
    "        for line in f:\n",
    "            line = line[:-1].split(',')[:-1]\n",
    "            if line[1] == '0' and line[3] != '': result.append([float(line[0]), float(line[3])])\n",
    "    return result\n",
    "\n",
    "def graph(data, top_offset=3):\n",
    "    x = [i[0] for i in data]\n",
    "    y = [i[1] for i in data]\n",
    "    plt.ylim(ymin=0, ymax=(max(y) + top_offset))\n",
    "    plt.plot(x, y, 'ro')\n",
    "\n",
    "    A = np.vstack([x, np.ones(len(x))]).T\n",
    "    k, n = np.linalg.lstsq(A, y)[0]\n",
    "    yfit = [k * xi + n for xi in x]\n",
    "    plt.plot(x, yfit)\n",
    "    \n",
    "tri = readcsv('data/4.csv')\n",
    "graph(tri)"
   ]
  }
 ],
 "metadata": {
  "kernelspec": {
   "display_name": "Python 3",
   "language": "python",
   "name": "python3"
  },
  "language_info": {
   "codemirror_mode": {
    "name": "ipython",
    "version": 3
   },
   "file_extension": ".py",
   "mimetype": "text/x-python",
   "name": "python",
   "nbconvert_exporter": "python",
   "pygments_lexer": "ipython3",
   "version": "3.6.3"
  }
 },
 "nbformat": 4,
 "nbformat_minor": 2
}
